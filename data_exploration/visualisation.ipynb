{
 "cells": [
  {
   "cell_type": "markdown",
   "id": "461cd793",
   "metadata": {},
   "source": [
    "# Data exploration"
   ]
  },
  {
   "cell_type": "code",
   "execution_count": 1,
   "id": "3e307100",
   "metadata": {},
   "outputs": [],
   "source": [
    "from helpers import get_files_for_subjects, get_data_from_csv, transform_right, downsample_convert_to_tensor, get_mean_std\n",
    "import pandas as pd\n",
    "import torch as t\n",
    "from matplotlib import pyplot as plt\n",
    "from pathlib import Path\n",
    "import os"
   ]
  },
  {
   "cell_type": "code",
   "execution_count": 2,
   "id": "5fe5ad59",
   "metadata": {},
   "outputs": [
    {
     "name": "stdout",
     "output_type": "stream",
     "text": [
      "tensor([ 9.9861,  1.2912, -0.9195,  2.3408, -3.1888, -0.2357,  9.9861, -1.2912,\n",
      "        -0.9195, -2.3408, -3.1888,  0.2357], dtype=torch.float64)\n",
      "tensor([ 9.9861,  1.2912, -0.9195,  2.3408, -3.1888, -0.2357,  9.9861, -1.2912,\n",
      "        -0.9195, -2.3408, -3.1888,  0.2357], dtype=torch.float64)\n"
     ]
    }
   ],
   "source": [
    "t.set_printoptions(profile=\"full\")\n",
    "\n",
    "def get_data(subjects, downsample):\n",
    "    base_dir = os.path.join(Path(os.getcwd()).parent.absolute(), \"data\")\n",
    "    filenames = get_files_for_subjects(subjects, base_dir = base_dir)\n",
    "    data = [get_data_from_csv(f) for f in filenames]\n",
    "    data = [downsample_convert_to_tensor(f, downsample) for f in data]\n",
    "    _tensor = t.cat(data, dim=0)\n",
    "    return _tensor\n",
    "\n",
    "base_dir = os.path.join(Path(os.getcwd()).parent.absolute(), \"data\")\n",
    "filenames = get_files_for_subjects([18], base_dir = base_dir)\n",
    "x = get_data([18], 1)\n",
    "print(x.mean(dim=0)[:-1])\n",
    "# print(x.std(dim=0))\n",
    "print(get_mean_std(filenames)[0])"
   ]
  },
  {
   "cell_type": "code",
   "execution_count": null,
   "id": "de02e8a1",
   "metadata": {},
   "outputs": [],
   "source": [
    "def get_data(subjects, downsample):\n",
    "    base_dir = os.path.join(Path(os.getcwd()).parent.absolute(), \"data\")\n",
    "    filenames = get_files_for_subjects(subjects, base_dir = base_dir)\n",
    "    data = [get_data_from_csv(f) for f in filenames]\n",
    "    data = [downsample_convert_to_tensor(f, downsample) for f in data]\n",
    "    _tensor = t.cat(data, dim=0)\n",
    "    return _tensor\n",
    "\n",
    "def visualise(subject, downsample = 1000):\n",
    "    data = get_data(subject, downsample)\n",
    "    labels = data[:,-1]\n",
    "    data = data[:, :-1]\n",
    "\n",
    "    data_mean = data.mean(dim = 0)\n",
    "    data_std = data.std(dim = 0)\n",
    "    data_norm = (data - data_mean) / data_std\n",
    "    \n",
    "    U, S, V = t.pca_lowrank(data, 12)\n",
    "    Z = t.matmul(data_norm, V)\n",
    "    projected = Z[:, :3]\n",
    "    \n",
    "    rainbow = [\n",
    "        \"#ff1e00\",\n",
    "        \"#ff8000\",\n",
    "        \"#ffe600\", \n",
    "        \"#aaff00\",\n",
    "        \"#33ff00\",\n",
    "        \"#00ff66\",\n",
    "        \"#00fffb\",\n",
    "        \"#008cff\",\n",
    "        \"#0022ff\",\n",
    "        \"#6a00ff\",\n",
    "        \"#c300ff\",\n",
    "        \"#ff00cc\",\n",
    "        \"#ff005d\"\n",
    "    ]\n",
    "    \n",
    "    plt.figure(figsize=(12, 12))\n",
    "    ax = plt.axes()\n",
    "    for label in range(12):\n",
    "        selected = projected[labels == label]\n",
    "        ax.scatter(selected[:,0], selected[:,1], marker=\"o\", color=rainbow[label], label=f\"Stage {label + 1}\")\n",
    "    plt.legend()\n",
    "    plt.axis('off')\n",
    "#     plt.title(f\"Subjects {subject}\")\n",
    "    plt.show()\n",
    "    plt.savefig(f'projection.png')\n",
    "    "
   ]
  },
  {
   "cell_type": "code",
   "execution_count": null,
   "id": "babd994d",
   "metadata": {
    "pycharm": {
     "is_executing": true
    }
   },
   "outputs": [],
   "source": [
    "visualise([1,2,3,4,5,7,9,10,11,12,14,15,16,17,20,28,29], downsample = 4000)"
   ]
  },
  {
   "cell_type": "code",
   "execution_count": null,
   "id": "b12b9831",
   "metadata": {
    "pycharm": {
     "is_executing": true
    }
   },
   "outputs": [],
   "source": []
  }
 ],
 "metadata": {
  "kernelspec": {
   "display_name": "Python 3 (ipykernel)",
   "language": "python",
   "name": "python3"
  },
  "language_info": {
   "codemirror_mode": {
    "name": "ipython",
    "version": 3
   },
   "file_extension": ".py",
   "mimetype": "text/x-python",
   "name": "python",
   "nbconvert_exporter": "python",
   "pygments_lexer": "ipython3",
   "version": "3.9.1"
  }
 },
 "nbformat": 4,
 "nbformat_minor": 5
}
